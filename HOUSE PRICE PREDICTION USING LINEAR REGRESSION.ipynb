{
 "cells": [
  {
   "cell_type": "markdown",
   "id": "441d7914",
   "metadata": {},
   "source": [
    "# Import the libraries "
   ]
  },
  {
   "cell_type": "code",
   "execution_count": 61,
   "id": "35021716",
   "metadata": {},
   "outputs": [
    {
     "data": {
      "text/html": [
       "<div>\n",
       "<style scoped>\n",
       "    .dataframe tbody tr th:only-of-type {\n",
       "        vertical-align: middle;\n",
       "    }\n",
       "\n",
       "    .dataframe tbody tr th {\n",
       "        vertical-align: top;\n",
       "    }\n",
       "\n",
       "    .dataframe thead th {\n",
       "        text-align: right;\n",
       "    }\n",
       "</style>\n",
       "<table border=\"1\" class=\"dataframe\">\n",
       "  <thead>\n",
       "    <tr style=\"text-align: right;\">\n",
       "      <th></th>\n",
       "      <th>PRICE</th>\n",
       "      <th>AREA</th>\n",
       "      <th>BEDROOMS</th>\n",
       "      <th>BATHROOMS</th>\n",
       "      <th>STORIES</th>\n",
       "      <th>PARKING</th>\n",
       "    </tr>\n",
       "  </thead>\n",
       "  <tbody>\n",
       "    <tr>\n",
       "      <th>0</th>\n",
       "      <td>10126000</td>\n",
       "      <td>7420</td>\n",
       "      <td>4</td>\n",
       "      <td>2</td>\n",
       "      <td>3</td>\n",
       "      <td>2</td>\n",
       "    </tr>\n",
       "    <tr>\n",
       "      <th>1</th>\n",
       "      <td>12250000</td>\n",
       "      <td>8960</td>\n",
       "      <td>4</td>\n",
       "      <td>4</td>\n",
       "      <td>4</td>\n",
       "      <td>3</td>\n",
       "    </tr>\n",
       "    <tr>\n",
       "      <th>2</th>\n",
       "      <td>12250000</td>\n",
       "      <td>9960</td>\n",
       "      <td>3</td>\n",
       "      <td>2</td>\n",
       "      <td>2</td>\n",
       "      <td>2</td>\n",
       "    </tr>\n",
       "    <tr>\n",
       "      <th>3</th>\n",
       "      <td>12215000</td>\n",
       "      <td>7500</td>\n",
       "      <td>4</td>\n",
       "      <td>2</td>\n",
       "      <td>2</td>\n",
       "      <td>3</td>\n",
       "    </tr>\n",
       "    <tr>\n",
       "      <th>4</th>\n",
       "      <td>11410000</td>\n",
       "      <td>7420</td>\n",
       "      <td>4</td>\n",
       "      <td>1</td>\n",
       "      <td>2</td>\n",
       "      <td>2</td>\n",
       "    </tr>\n",
       "  </tbody>\n",
       "</table>\n",
       "</div>"
      ],
      "text/plain": [
       "      PRICE  AREA  BEDROOMS  BATHROOMS  STORIES  PARKING\n",
       "0  10126000  7420         4          2        3        2\n",
       "1  12250000  8960         4          4        4        3\n",
       "2  12250000  9960         3          2        2        2\n",
       "3  12215000  7500         4          2        2        3\n",
       "4  11410000  7420         4          1        2        2"
      ]
     },
     "execution_count": 61,
     "metadata": {},
     "output_type": "execute_result"
    }
   ],
   "source": [
    "import numpy as np\n",
    "import pandas as pd\n",
    "\n",
    "columns=['PRICE','AREA','BEDROOMS','BATHROOMS','STORIES','PARKING']\n",
    "\n",
    "df=pd.read_csv(r\"C:\\Users\\Lenovo\\Desktop\\Housing.csv\",names=columns)\n",
    "df.head()"
   ]
  },
  {
   "cell_type": "markdown",
   "id": "d80832fc",
   "metadata": {},
   "source": [
    "# Visualization of dataset"
   ]
  },
  {
   "cell_type": "code",
   "execution_count": 62,
   "id": "a06a213e",
   "metadata": {},
   "outputs": [
    {
     "data": {
      "text/html": [
       "<div>\n",
       "<style scoped>\n",
       "    .dataframe tbody tr th:only-of-type {\n",
       "        vertical-align: middle;\n",
       "    }\n",
       "\n",
       "    .dataframe tbody tr th {\n",
       "        vertical-align: top;\n",
       "    }\n",
       "\n",
       "    .dataframe thead th {\n",
       "        text-align: right;\n",
       "    }\n",
       "</style>\n",
       "<table border=\"1\" class=\"dataframe\">\n",
       "  <thead>\n",
       "    <tr style=\"text-align: right;\">\n",
       "      <th></th>\n",
       "      <th>PRICE</th>\n",
       "      <th>AREA</th>\n",
       "      <th>BEDROOMS</th>\n",
       "      <th>BATHROOMS</th>\n",
       "      <th>STORIES</th>\n",
       "      <th>PARKING</th>\n",
       "    </tr>\n",
       "  </thead>\n",
       "  <tbody>\n",
       "    <tr>\n",
       "      <th>count</th>\n",
       "      <td>1.000000e+02</td>\n",
       "      <td>100.000000</td>\n",
       "      <td>100.000000</td>\n",
       "      <td>100.000000</td>\n",
       "      <td>100.00000</td>\n",
       "      <td>100.000000</td>\n",
       "    </tr>\n",
       "    <tr>\n",
       "      <th>mean</th>\n",
       "      <td>7.786399e+06</td>\n",
       "      <td>6928.570000</td>\n",
       "      <td>3.320000</td>\n",
       "      <td>1.770000</td>\n",
       "      <td>2.53000</td>\n",
       "      <td>1.220000</td>\n",
       "    </tr>\n",
       "    <tr>\n",
       "      <th>std</th>\n",
       "      <td>1.503442e+06</td>\n",
       "      <td>2117.907116</td>\n",
       "      <td>0.617587</td>\n",
       "      <td>0.600589</td>\n",
       "      <td>1.10513</td>\n",
       "      <td>0.823641</td>\n",
       "    </tr>\n",
       "    <tr>\n",
       "      <th>min</th>\n",
       "      <td>2.154444e+06</td>\n",
       "      <td>3500.000000</td>\n",
       "      <td>2.000000</td>\n",
       "      <td>1.000000</td>\n",
       "      <td>1.00000</td>\n",
       "      <td>0.000000</td>\n",
       "    </tr>\n",
       "    <tr>\n",
       "      <th>25%</th>\n",
       "      <td>6.650000e+06</td>\n",
       "      <td>6000.000000</td>\n",
       "      <td>3.000000</td>\n",
       "      <td>1.000000</td>\n",
       "      <td>2.00000</td>\n",
       "      <td>1.000000</td>\n",
       "    </tr>\n",
       "    <tr>\n",
       "      <th>50%</th>\n",
       "      <td>7.420000e+06</td>\n",
       "      <td>6490.000000</td>\n",
       "      <td>3.000000</td>\n",
       "      <td>2.000000</td>\n",
       "      <td>2.00000</td>\n",
       "      <td>1.000000</td>\n",
       "    </tr>\n",
       "    <tr>\n",
       "      <th>75%</th>\n",
       "      <td>8.548750e+06</td>\n",
       "      <td>7685.000000</td>\n",
       "      <td>4.000000</td>\n",
       "      <td>2.000000</td>\n",
       "      <td>4.00000</td>\n",
       "      <td>2.000000</td>\n",
       "    </tr>\n",
       "    <tr>\n",
       "      <th>max</th>\n",
       "      <td>1.225000e+07</td>\n",
       "      <td>16200.000000</td>\n",
       "      <td>5.000000</td>\n",
       "      <td>4.000000</td>\n",
       "      <td>4.00000</td>\n",
       "      <td>3.000000</td>\n",
       "    </tr>\n",
       "  </tbody>\n",
       "</table>\n",
       "</div>"
      ],
      "text/plain": [
       "              PRICE          AREA    BEDROOMS   BATHROOMS    STORIES  \\\n",
       "count  1.000000e+02    100.000000  100.000000  100.000000  100.00000   \n",
       "mean   7.786399e+06   6928.570000    3.320000    1.770000    2.53000   \n",
       "std    1.503442e+06   2117.907116    0.617587    0.600589    1.10513   \n",
       "min    2.154444e+06   3500.000000    2.000000    1.000000    1.00000   \n",
       "25%    6.650000e+06   6000.000000    3.000000    1.000000    2.00000   \n",
       "50%    7.420000e+06   6490.000000    3.000000    2.000000    2.00000   \n",
       "75%    8.548750e+06   7685.000000    4.000000    2.000000    4.00000   \n",
       "max    1.225000e+07  16200.000000    5.000000    4.000000    4.00000   \n",
       "\n",
       "          PARKING  \n",
       "count  100.000000  \n",
       "mean     1.220000  \n",
       "std      0.823641  \n",
       "min      0.000000  \n",
       "25%      1.000000  \n",
       "50%      1.000000  \n",
       "75%      2.000000  \n",
       "max      3.000000  "
      ]
     },
     "execution_count": 62,
     "metadata": {},
     "output_type": "execute_result"
    }
   ],
   "source": [
    "df.describe()"
   ]
  },
  {
   "cell_type": "markdown",
   "id": "44ca1189",
   "metadata": {},
   "source": [
    "# Total columns in dataset"
   ]
  },
  {
   "cell_type": "code",
   "execution_count": 63,
   "id": "c8c7c549",
   "metadata": {},
   "outputs": [
    {
     "data": {
      "text/plain": [
       "Index(['PRICE', 'AREA', 'BEDROOMS', 'BATHROOMS', 'STORIES', 'PARKING'], dtype='object')"
      ]
     },
     "execution_count": 63,
     "metadata": {},
     "output_type": "execute_result"
    }
   ],
   "source": [
    "df.columns"
   ]
  },
  {
   "cell_type": "markdown",
   "id": "fd5b7789",
   "metadata": {},
   "source": [
    "# Shape of the dataset"
   ]
  },
  {
   "cell_type": "code",
   "execution_count": 64,
   "id": "5e2a809b",
   "metadata": {},
   "outputs": [
    {
     "data": {
      "text/plain": [
       "(100, 6)"
      ]
     },
     "execution_count": 64,
     "metadata": {},
     "output_type": "execute_result"
    }
   ],
   "source": [
    "df.shape"
   ]
  },
  {
   "cell_type": "markdown",
   "id": "364466fc",
   "metadata": {},
   "source": [
    "# Only show first 10 input and output variables"
   ]
  },
  {
   "cell_type": "code",
   "execution_count": 65,
   "id": "20142b4f",
   "metadata": {},
   "outputs": [],
   "source": [
    "data=df.values\n",
    "x=data[0:10,1:8]\n",
    "y=data[0:10,0]"
   ]
  },
  {
   "cell_type": "markdown",
   "id": "bcf36150",
   "metadata": {},
   "source": [
    "# X=input variable i.e area, bedrooms, bathrooms,stories, parking\n"
   ]
  },
  {
   "cell_type": "code",
   "execution_count": 66,
   "id": "7f80b7ed",
   "metadata": {},
   "outputs": [
    {
     "name": "stdout",
     "output_type": "stream",
     "text": [
      "[[ 7420     4     2     3     2]\n",
      " [ 8960     4     4     4     3]\n",
      " [ 9960     3     2     2     2]\n",
      " [ 7500     4     2     2     3]\n",
      " [ 7420     4     1     2     2]\n",
      " [ 7500     3     3     1     2]\n",
      " [ 8580     4     3     4     2]\n",
      " [16200     5     3     2     0]\n",
      " [ 8100     4     1     2     2]\n",
      " [ 5750     3     2     4     1]]\n"
     ]
    }
   ],
   "source": [
    "print(x)"
   ]
  },
  {
   "cell_type": "markdown",
   "id": "56c1b0e2",
   "metadata": {},
   "source": [
    "#  Y=output variable i.e. price of house"
   ]
  },
  {
   "cell_type": "code",
   "execution_count": 67,
   "id": "8b7a2f02",
   "metadata": {},
   "outputs": [
    {
     "name": "stdout",
     "output_type": "stream",
     "text": [
      "[10126000 12250000 12250000 12215000 11410000 10850000 10150000 10150000\n",
      "  9870000  9800000]\n"
     ]
    }
   ],
   "source": [
    "print(y)"
   ]
  },
  {
   "cell_type": "markdown",
   "id": "b8a9001a",
   "metadata": {},
   "source": [
    "# Visualization of data using matplotlib"
   ]
  },
  {
   "cell_type": "code",
   "execution_count": 68,
   "id": "99006a68",
   "metadata": {},
   "outputs": [
    {
     "data": {
      "text/plain": [
       "<Figure size 864x576 with 0 Axes>"
      ]
     },
     "metadata": {},
     "output_type": "display_data"
    },
    {
     "data": {
      "image/png": "[encoded data removed]",
      "text/plain": [
       "<Figure size 1080x720 with 6 Axes>"
      ]
     },
     "metadata": {
      "needs_background": "light"
     },
     "output_type": "display_data"
    }
   ],
   "source": [
    "import matplotlib.pyplot as plt\n",
    "plt.figure(figsize=(12,8))\n",
    "df.iloc[:,0:-1].hist(bins=30,figsize=(15,10))\n",
    "plt.show()"
   ]
  },
  {
   "cell_type": "markdown",
   "id": "c661ecce",
   "metadata": {},
   "source": [
    "# Plot a graph with relation of price and area"
   ]
  },
  {
   "cell_type": "code",
   "execution_count": 138,
   "id": "30a9ad51",
   "metadata": {},
   "outputs": [
    {
     "data": {
      "text/plain": [
       "<AxesSubplot:xlabel='AREA', ylabel='PRICE'>"
      ]
     },
     "execution_count": 138,
     "metadata": {},
     "output_type": "execute_result"
    },
    {
     "data": {
      "image/png": "[encoded data removed]",
      "text/plain": [
       "<Figure size 432x288 with 1 Axes>"
      ]
     },
     "metadata": {
      "needs_background": "light"
     },
     "output_type": "display_data"
    }
   ],
   "source": [
    "sns.scatterplot(x='AREA',y='PRICE', data=df)"
   ]
  },
  {
   "cell_type": "markdown",
   "id": "2a3649cd",
   "metadata": {},
   "source": [
    "# Linear Regression"
   ]
  },
  {
   "cell_type": "code",
   "execution_count": 69,
   "id": "ba5921b5",
   "metadata": {},
   "outputs": [],
   "source": [
    "import seaborn as sns\n",
    "from sklearn.model_selection import train_test_split\n",
    "from sklearn.linear_model import LinearRegression\n",
    "from sklearn.metrics import r2_score\n",
    "from sklearn.metrics import mean_squared_error, mean_absolute_error\n",
    "from sklearn import preprocessing\n"
   ]
  },
  {
   "cell_type": "markdown",
   "id": "a35a9bdb",
   "metadata": {},
   "source": [
    "# Split data into train set & test set"
   ]
  },
  {
   "cell_type": "code",
   "execution_count": 137,
   "id": "9a03ca61",
   "metadata": {},
   "outputs": [
    {
     "data": {
      "text/plain": [
       "LinearRegression()"
      ]
     },
     "execution_count": 137,
     "metadata": {},
     "output_type": "execute_result"
    }
   ],
   "source": [
    "from sklearn.model_selection import train_test_split\n",
    "from sklearn.linear_model import LinearRegression\n",
    "x_train,x_test,y_train,y_test=train_test_split(x,y,test_size=0.20)\n",
    "lg_model=LinearRegression()\n",
    "lg_model.fit(x_train,y_train)\n",
    "#coeff_df=pd.DataFrame(lg_model.coef_)\n",
    "#coeff_df"
   ]
  },
  {
   "cell_type": "code",
   "execution_count": 139,
   "id": "d0680350",
   "metadata": {},
   "outputs": [
    {
     "name": "stdout",
     "output_type": "stream",
     "text": [
      "[[ 5750     3     2     4     1]\n",
      " [ 7420     4     2     3     2]\n",
      " [ 7420     4     1     2     2]\n",
      " [ 8100     4     1     2     2]\n",
      " [16200     5     3     2     0]\n",
      " [ 9960     3     2     2     2]\n",
      " [ 7500     3     3     1     2]\n",
      " [ 7500     4     2     2     3]]\n"
     ]
    }
   ],
   "source": [
    "print(x_train)"
   ]
  },
  {
   "cell_type": "code",
   "execution_count": 140,
   "id": "e3f8d537",
   "metadata": {},
   "outputs": [
    {
     "name": "stdout",
     "output_type": "stream",
     "text": [
      "[[8580    4    3    4    2]\n",
      " [8960    4    4    4    3]]\n"
     ]
    }
   ],
   "source": [
    "print(x_test)"
   ]
  },
  {
   "cell_type": "code",
   "execution_count": 141,
   "id": "89038d5d",
   "metadata": {},
   "outputs": [
    {
     "name": "stdout",
     "output_type": "stream",
     "text": [
      "[ 9800000 10126000 11410000  9870000 10150000 12250000 10850000 12215000]\n"
     ]
    }
   ],
   "source": [
    "print(y_train)"
   ]
  },
  {
   "cell_type": "code",
   "execution_count": 142,
   "id": "b68949c6",
   "metadata": {},
   "outputs": [
    {
     "name": "stdout",
     "output_type": "stream",
     "text": [
      "[10150000 12250000]\n"
     ]
    }
   ],
   "source": [
    "print(y_test)"
   ]
  },
  {
   "cell_type": "code",
   "execution_count": 143,
   "id": "bf6eb5c5",
   "metadata": {},
   "outputs": [],
   "source": [
    "lg_model.fit(x_train,y_train)\n",
    "predictions=lg_model.predict(x_test)"
   ]
  },
  {
   "cell_type": "markdown",
   "id": "c95b298d",
   "metadata": {},
   "source": [
    "# Mean Squared Error(MSE)"
   ]
  },
  {
   "cell_type": "code",
   "execution_count": null,
   "id": "d0f3b777",
   "metadata": {},
   "outputs": [],
   "source": [
    "print ('mean_squared_error : ', mean_squared_error(y_test, predictions))\n",
    "print('mean_absolute_error : ', mean_absolute_error(y_test, predictions))"
   ]
  },
  {
   "cell_type": "markdown",
   "id": "c7cc647f",
   "metadata": {},
   "source": [
    "# y=mx+b\n"
   ]
  },
  {
   "cell_type": "markdown",
   "id": "24597d17",
   "metadata": {},
   "source": [
    " # where b="
   ]
  },
  {
   "cell_type": "code",
   "execution_count": 135,
   "id": "47969697",
   "metadata": {},
   "outputs": [
    {
     "name": "stdout",
     "output_type": "stream",
     "text": [
      "[-2.73232421e+02 -7.52496977e+05  1.66027869e+06 -1.65749342e+06\n",
      "  2.71247816e+05]\n"
     ]
    }
   ],
   "source": [
    "print(lg_model.coef_)"
   ]
  },
  {
   "cell_type": "markdown",
   "id": "e7385f3b",
   "metadata": {},
   "source": [
    "# and m="
   ]
  },
  {
   "cell_type": "code",
   "execution_count": 122,
   "id": "62a6c867",
   "metadata": {},
   "outputs": [
    {
     "name": "stdout",
     "output_type": "stream",
     "text": [
      "16674564.651266294\n"
     ]
    }
   ],
   "source": [
    "print(lg_model.intercept_)"
   ]
  },
  {
   "cell_type": "code",
   "execution_count": 123,
   "id": "3e8ef99e",
   "metadata": {},
   "outputs": [
    {
     "name": "stdout",
     "output_type": "stream",
     "text": [
      "-117.31810249190701\n"
     ]
    }
   ],
   "source": [
    "pred=lg_model.predict(x_test)\n",
    "print(r2_score(y_test,pred))"
   ]
  },
  {
   "cell_type": "code",
   "execution_count": 124,
   "id": "d484b241",
   "metadata": {},
   "outputs": [
    {
     "data": {
      "text/plain": [
       "[<matplotlib.lines.Line2D at 0x2429b5d9400>]"
      ]
     },
     "execution_count": 124,
     "metadata": {},
     "output_type": "execute_result"
    },
    {
     "data": {
      "image/png": "[encoded data removed]",
      "text/plain": [
       "<Figure size 432x288 with 1 Axes>"
      ]
     },
     "metadata": {
      "needs_background": "light"
     },
     "output_type": "display_data"
    }
   ],
   "source": [
    "plt.scatter(y_test,pred)\n",
    "plt.plot(y_test,pred,color='red')"
   ]
  }
 ],
 "metadata": {
  "kernelspec": {
   "display_name": "Python 3 (ipykernel)",
   "language": "python",
   "name": "python3"
  },
  "language_info": {
   "codemirror_mode": {
    "name": "ipython",
    "version": 3
   },
   "file_extension": ".py",
   "mimetype": "text/x-python",
   "name": "python",
   "nbconvert_exporter": "python",
   "pygments_lexer": "ipython3",
   "version": "3.9.12"
  }
 },
 "nbformat": 4,
 "nbformat_minor": 5
}
